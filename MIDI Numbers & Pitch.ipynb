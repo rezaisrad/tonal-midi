{
 "cells": [
  {
   "cell_type": "markdown",
   "id": "351c3f5a",
   "metadata": {},
   "source": [
    "# MIDI Numbers & Pitch\n",
    "\n",
    "Suppose that two notes have frequencies $f_1$ and $f_2$, and a frequency ratio of $f_2/f_1$. An octave is a ratio of $2:1$, so the number of octaves between $f_2$ and $f_1$ is\n",
    "\n",
    "$$\n",
    "n_o = log_2(f_2/f_1)\n",
    "$$\n",
    "\n",
    "Now to divide the octave into smaller units. In equal temperament, where all semitones have the same frequency ratio of $2^{1/12}$, the conversion between note name and frequency is simple. First, one needs a reference note and frequency. This is usually A4, which is often set at $440\\,Hz$. For a note that lies $n$ semitones higher (or $−n$ semitones lower), the frequency is then\n",
    "\n",
    "$$f_n = 2^{n/12}*440\\,Hz$$\n",
    "\n",
    "With 12 being our dividing value, we get the 12 semitones used in western music.\n",
    "\n",
    "Let's test it out and see if we can correctly determine the pitch of **C4**"
   ]
  },
  {
   "cell_type": "code",
   "execution_count": 1,
   "id": "3043a478",
   "metadata": {
    "ExecuteTime": {
     "end_time": "2023-03-05T13:15:53.716912Z",
     "start_time": "2023-03-05T13:15:53.621023Z"
    }
   },
   "outputs": [],
   "source": [
    "import numpy as np\n",
    "\n",
    "def get_freq_n_semitones(n):\n",
    "    return 2**(n/12)*440"
   ]
  },
  {
   "cell_type": "markdown",
   "id": "80eec9b6",
   "metadata": {},
   "source": [
    "Since **C4** is 3 semitones (halfsteps) away from **A4**, we set `n` as 3 "
   ]
  },
  {
   "cell_type": "code",
   "execution_count": 2,
   "id": "e1f87dcc",
   "metadata": {
    "ExecuteTime": {
     "end_time": "2023-03-05T13:15:53.747729Z",
     "start_time": "2023-03-05T13:15:53.727170Z"
    },
    "scrolled": true
   },
   "outputs": [
    {
     "data": {
      "text/plain": [
       "523.2511306011972"
      ]
     },
     "execution_count": 2,
     "metadata": {},
     "output_type": "execute_result"
    }
   ],
   "source": [
    "get_freq_n_semitones(3)"
   ]
  },
  {
   "cell_type": "markdown",
   "id": "eae2ab5a",
   "metadata": {},
   "source": [
    "523.25 is the frequency of **C4**."
   ]
  },
  {
   "cell_type": "markdown",
   "id": "782f8104",
   "metadata": {},
   "source": [
    "Conversely, one can obtain n, the number of semitones from **A4**, from\n",
    "\n",
    "$$n = 12*log_2(f_n/440\\,Hz)$$\n",
    "\n",
    "Similar equations give $n_o$, the number of octaves from **A4**, and $n_c$, the number of cents from **A4**:\n",
    "\n",
    "$$n_o = log_2(f_n/440\\,Hz)$$ and $$n_c = 1200*log_2(f_n/440\\,Hz)$$"
   ]
  },
  {
   "cell_type": "code",
   "execution_count": 3,
   "id": "86700a40",
   "metadata": {
    "ExecuteTime": {
     "end_time": "2023-03-05T13:15:53.761698Z",
     "start_time": "2023-03-05T13:15:53.749526Z"
    }
   },
   "outputs": [],
   "source": [
    "def get_n_from_freq(f):\n",
    "    return round(12*np.log2(f/440),2)"
   ]
  },
  {
   "cell_type": "code",
   "execution_count": 4,
   "id": "f19de677",
   "metadata": {
    "ExecuteTime": {
     "end_time": "2023-03-05T13:15:53.783070Z",
     "start_time": "2023-03-05T13:15:53.772906Z"
    }
   },
   "outputs": [
    {
     "data": {
      "text/plain": [
       "3.0"
      ]
     },
     "execution_count": 4,
     "metadata": {},
     "output_type": "execute_result"
    }
   ],
   "source": [
    "get_n_from_freq(523.25)"
   ]
  },
  {
   "cell_type": "markdown",
   "id": "c7072303",
   "metadata": {
    "ExecuteTime": {
     "end_time": "2022-11-10T03:57:48.377686Z",
     "start_time": "2022-11-10T03:57:48.350184Z"
    }
   },
   "source": [
    "In electronic music, pitch is often given by MIDI number: let's call it $m$ for our purposes. $m$ for the note **A4** is 69 and increases by one for each equal tempered semitone, so this gives us a simple conversion between frequencies and MIDI numbers (again using $440\\,Hz$ as the pitch of **A4**):\n",
    "\n",
    "$$m  =  12*log_2(f_m/440\\,Hz) + 69$$\n",
    "and\n",
    "$$f_m  =  2^{(m−69)/12}(440\\,Hz)$$"
   ]
  },
  {
   "cell_type": "code",
   "execution_count": 5,
   "id": "9030fe3f",
   "metadata": {
    "ExecuteTime": {
     "end_time": "2023-03-05T13:15:53.794066Z",
     "start_time": "2023-03-05T13:15:53.785455Z"
    }
   },
   "outputs": [],
   "source": [
    "def get_midi_from_freq(f):\n",
    "    return round(12*np.log2(f/440),2) + 69"
   ]
  },
  {
   "cell_type": "code",
   "execution_count": 6,
   "id": "ca8f67ee",
   "metadata": {
    "ExecuteTime": {
     "end_time": "2023-03-05T13:15:53.815295Z",
     "start_time": "2023-03-05T13:15:53.805364Z"
    }
   },
   "outputs": [
    {
     "data": {
      "text/plain": [
       "72.0"
      ]
     },
     "execution_count": 6,
     "metadata": {},
     "output_type": "execute_result"
    }
   ],
   "source": [
    "get_midi_from_freq(523.25)"
   ]
  },
  {
   "cell_type": "markdown",
   "id": "bb78c2f2",
   "metadata": {
    "ExecuteTime": {
     "end_time": "2022-11-10T05:01:52.517585Z",
     "start_time": "2022-11-10T05:01:52.510770Z"
    }
   },
   "source": [
    "The notation used here is not universal: when different tuning systems are used, different names are applied.\n",
    "\n",
    "![midi_chart.gif](midi_chart.gif)\n",
    "\n",
    "**source:** https://newt.phys.unsw.edu.au/jw/notes.html"
   ]
  },
  {
   "cell_type": "code",
   "execution_count": 1,
   "id": "c48a19d4",
   "metadata": {
    "ExecuteTime": {
     "end_time": "2023-03-05T13:43:22.843072Z",
     "start_time": "2023-03-05T13:43:22.546960Z"
    }
   },
   "outputs": [],
   "source": [
    "from scamp import *\n",
    "import random"
   ]
  },
  {
   "cell_type": "markdown",
   "id": "d7186bf8",
   "metadata": {},
   "source": [
    "### Create a new Session and Play a 3 notes in a scale"
   ]
  },
  {
   "cell_type": "code",
   "execution_count": 8,
   "id": "5ebd66fb",
   "metadata": {
    "ExecuteTime": {
     "end_time": "2023-03-05T13:15:55.795263Z",
     "start_time": "2023-03-05T13:15:54.198071Z"
    }
   },
   "outputs": [
    {
     "name": "stdout",
     "output_type": "stream",
     "text": [
      "Using preset Piano Merlin for piano\n"
     ]
    }
   ],
   "source": [
    "s = Session()\n",
    "s.tempo = 128\n",
    "\n",
    "piano = s.new_part(\"piano\")\n",
    "\n",
    "piano.play_note(21.5, 1, 1.0)\n",
    "piano.play_note(21, 1, 1.0)\n",
    "piano.play_note(21.9, 1, 1.0)"
   ]
  },
  {
   "cell_type": "markdown",
   "id": "85c623fc",
   "metadata": {},
   "source": [
    "### Repeat to play a notes in the Fm Scale"
   ]
  },
  {
   "attachments": {
    "image.png": {
     "image/png": "[encoded data removed]"
    }
   },
   "cell_type": "markdown",
   "id": "88edf7cd",
   "metadata": {},
   "source": [
    "![image.png](attachment:image.png)"
   ]
  },
  {
   "cell_type": "code",
   "execution_count": 9,
   "id": "ffc425a3",
   "metadata": {
    "ExecuteTime": {
     "end_time": "2023-03-05T13:15:55.807732Z",
     "start_time": "2023-03-05T13:15:55.799463Z"
    }
   },
   "outputs": [],
   "source": [
    "Fm = {\"F\": 65, \n",
    "     \"G\": 67,\n",
    "     \"Ab\": 68,\n",
    "     \"Bb\": 70,\n",
    "     \"C\": 72,\n",
    "     \"Db\": 73,\n",
    "     \"Eb\": 75,\n",
    "     \"F2\": 77\n",
    "    }"
   ]
  },
  {
   "cell_type": "markdown",
   "id": "c1d76cfc",
   "metadata": {},
   "source": [
    "#### Play a Random Melody in Fm"
   ]
  },
  {
   "cell_type": "code",
   "execution_count": 10,
   "id": "e2c23842",
   "metadata": {
    "ExecuteTime": {
     "end_time": "2023-03-05T13:15:58.495797Z",
     "start_time": "2023-03-05T13:15:55.814159Z"
    },
    "scrolled": true
   },
   "outputs": [
    {
     "name": "stdout",
     "output_type": "stream",
     "text": [
      "Using preset Piano Merlin for piano\n"
     ]
    }
   ],
   "source": [
    "s = Session()\n",
    "s.tempo = 128\n",
    "\n",
    "piano = s.new_part(\"piano\")\n",
    "\n",
    "piano.play_note(Fm['F'] - 12, 1, .5)\n",
    "piano.play_note(Fm['Ab'] - 12, 1, .5)\n",
    "piano.play_note(Fm['C'] - 12, 1, .5)\n",
    "piano.play_note(Fm['Bb'] - 12, 1, 1.0)\n",
    "piano.play_note(Fm['Ab'] - 12, 1, 1.0)\n",
    "piano.play_note(Fm['C'] - 12, 1, .5)\n",
    "piano.play_note(Fm['G'] - 12, 1, .5)\n",
    "piano.play_note(Fm['F'] - 12, 1, 1.0)"
   ]
  },
  {
   "cell_type": "markdown",
   "id": "0d04e044",
   "metadata": {},
   "source": [
    "#### Play the Fm Scale"
   ]
  },
  {
   "cell_type": "code",
   "execution_count": 11,
   "id": "2c938e96",
   "metadata": {
    "ExecuteTime": {
     "end_time": "2023-03-05T13:15:58.509257Z",
     "start_time": "2023-03-05T13:15:58.499568Z"
    }
   },
   "outputs": [
    {
     "data": {
      "text/plain": [
       "dict_values([65, 67, 68, 70, 72, 73, 75, 77])"
      ]
     },
     "execution_count": 11,
     "metadata": {},
     "output_type": "execute_result"
    }
   ],
   "source": [
    "Fm.values()"
   ]
  },
  {
   "cell_type": "code",
   "execution_count": 12,
   "id": "78e84cbb",
   "metadata": {
    "ExecuteTime": {
     "end_time": "2023-03-05T13:16:00.463632Z",
     "start_time": "2023-03-05T13:15:58.512017Z"
    }
   },
   "outputs": [
    {
     "name": "stdout",
     "output_type": "stream",
     "text": [
      "Using preset Piano Merlin for piano\n"
     ]
    }
   ],
   "source": [
    "s = Session()\n",
    "s.tempo = 128\n",
    "\n",
    "piano = s.new_part(\"piano\")\n",
    "\n",
    "for m in Fm.values():\n",
    "    piano.play_note(m, 1, .5)"
   ]
  },
  {
   "cell_type": "markdown",
   "id": "37baaf53",
   "metadata": {},
   "source": [
    "### Create Notes in Dastgahe Shur\n",
    "Shur شور (C D Ep F G A/Ap Bb C) (Do Re Mi Fa Sol La Si Do)\n",
    "\n",
    "Flats are shown with a b, and koron (half flats) are designated with a p\n",
    "\n",
    "To determine the equivalent MIDI values, the frequencies of the notes must first be determined, and then the MIDI value can be derived.\n",
    "\n",
    "**E4** is 7 half-steps up from **A4** ($440\\,Hz$) and **Ep** is -.5 halfsteps from **E** (i.e. a quarter-tone), therefore `n = 6.5`"
   ]
  },
  {
   "cell_type": "code",
   "execution_count": 13,
   "id": "31759d2e",
   "metadata": {
    "ExecuteTime": {
     "end_time": "2023-03-05T13:16:00.471191Z",
     "start_time": "2023-03-05T13:16:00.466439Z"
    }
   },
   "outputs": [
    {
     "data": {
      "text/plain": [
       "7.0"
      ]
     },
     "execution_count": 13,
     "metadata": {},
     "output_type": "execute_result"
    }
   ],
   "source": [
    "get_n_from_freq(659.26)"
   ]
  },
  {
   "cell_type": "code",
   "execution_count": 14,
   "id": "19494e3f",
   "metadata": {
    "ExecuteTime": {
     "end_time": "2023-03-05T13:16:00.480416Z",
     "start_time": "2023-03-05T13:16:00.473204Z"
    }
   },
   "outputs": [
    {
     "data": {
      "text/plain": [
       "75.5"
      ]
     },
     "execution_count": 14,
     "metadata": {},
     "output_type": "execute_result"
    }
   ],
   "source": [
    "get_midi_from_freq(get_freq_n_semitones(6.5))"
   ]
  },
  {
   "cell_type": "code",
   "execution_count": 15,
   "id": "edda1cd8",
   "metadata": {
    "ExecuteTime": {
     "end_time": "2023-03-05T13:16:00.487070Z",
     "start_time": "2023-03-05T13:16:00.482681Z"
    }
   },
   "outputs": [],
   "source": [
    "shur = {\"C\": 72,\n",
    "        \"D\": 74,\n",
    "        \"Ep\": 75.5,\n",
    "        \"F\": 77,\n",
    "        \"G\": 79,\n",
    "        \"Ap\": 80.5,\n",
    "        \"Bb\": 82,\n",
    "        \"C\": 83 \n",
    "        }"
   ]
  },
  {
   "cell_type": "code",
   "execution_count": 16,
   "id": "2348f4ee",
   "metadata": {
    "ExecuteTime": {
     "end_time": "2023-03-05T13:16:00.493238Z",
     "start_time": "2023-03-05T13:16:00.489823Z"
    }
   },
   "outputs": [],
   "source": [
    "root = 72"
   ]
  },
  {
   "cell_type": "code",
   "execution_count": 17,
   "id": "c25a3891",
   "metadata": {
    "ExecuteTime": {
     "end_time": "2023-03-05T13:16:02.233340Z",
     "start_time": "2023-03-05T13:16:00.494859Z"
    }
   },
   "outputs": [
    {
     "name": "stdout",
     "output_type": "stream",
     "text": [
      "Using preset Piano Merlin for piano\n"
     ]
    }
   ],
   "source": [
    "s = Session()\n",
    "s.tempo = 128\n",
    "\n",
    "piano = s.new_part(\"piano\")\n",
    "\n",
    "for m in shur.values():\n",
    "    piano.play_note(m, 1, .5)"
   ]
  },
  {
   "cell_type": "markdown",
   "id": "5cef9a4b",
   "metadata": {},
   "source": [
    "### Generate A Melody in Shur"
   ]
  },
  {
   "cell_type": "code",
   "execution_count": 18,
   "id": "5dcda77a",
   "metadata": {
    "ExecuteTime": {
     "end_time": "2023-03-05T13:16:02.244390Z",
     "start_time": "2023-03-05T13:16:02.238178Z"
    }
   },
   "outputs": [],
   "source": [
    "shur_m = list(shur.values())"
   ]
  },
  {
   "cell_type": "code",
   "execution_count": 19,
   "id": "69aa9fcc",
   "metadata": {
    "ExecuteTime": {
     "end_time": "2023-03-05T13:16:02.250669Z",
     "start_time": "2023-03-05T13:16:02.247513Z"
    }
   },
   "outputs": [],
   "source": [
    "shur_m.sort()"
   ]
  },
  {
   "cell_type": "code",
   "execution_count": 20,
   "id": "5b28f00b",
   "metadata": {
    "ExecuteTime": {
     "end_time": "2023-03-05T13:16:02.259191Z",
     "start_time": "2023-03-05T13:16:02.253028Z"
    }
   },
   "outputs": [
    {
     "data": {
      "text/plain": [
       "[74, 75.5, 77, 79, 80.5, 82, 83]"
      ]
     },
     "execution_count": 20,
     "metadata": {},
     "output_type": "execute_result"
    }
   ],
   "source": [
    "shur_m"
   ]
  },
  {
   "cell_type": "code",
   "execution_count": 21,
   "id": "afcc5600",
   "metadata": {
    "ExecuteTime": {
     "end_time": "2023-03-05T13:16:03.973283Z",
     "start_time": "2023-03-05T13:16:02.261161Z"
    }
   },
   "outputs": [
    {
     "name": "stdout",
     "output_type": "stream",
     "text": [
      "Using preset Piano Merlin for piano\n"
     ]
    }
   ],
   "source": [
    "s = Session()\n",
    "s.tempo = 128\n",
    "\n",
    "piano = s.new_part(\"piano\")\n",
    "\n",
    "for m in shur_m:\n",
    "    piano.play_note(m, 1, .5)"
   ]
  },
  {
   "cell_type": "code",
   "execution_count": null,
   "id": "9c09fcb5",
   "metadata": {
    "ExecuteTime": {
     "end_time": "2023-03-05T13:16:37.538223Z",
     "start_time": "2023-03-05T13:16:25.462552Z"
    }
   },
   "outputs": [],
   "source": [
    "shur = {\"C\": 72,\n",
    "        \"D\": 74,\n",
    "        \"Ep\": 75.5,\n",
    "        \"F\": 77,\n",
    "        \"G\": 79,\n",
    "        \"Ap\": 80.5,\n",
    "        \"Bb\": 82,\n",
    "        }\n",
    "shur_m = list(shur.values())\n",
    "shur_m.sort()\n",
    "\n",
    "s = Session()\n",
    "s.tempo = 160\n",
    "\n",
    "piano = s.new_part(\"violin\")\n",
    "\n",
    "index = random.randint(0, len(shur_m))\n",
    "octave_shift = 0\n",
    "\n",
    "piano.play_note(shur_m[index] + octave_shift*12, random.randrange(8, 10)*.1, .5)\n",
    "for i in range(16 * 4):\n",
    "    print(index)\n",
    "    index += random.randint(-2, 2)\n",
    "    if random.random() < .25:\n",
    "        time = 1\n",
    "    else:\n",
    "        time = random.randrange(4, 6)*.1 \n",
    "    piano.play_note(shur_m[index] + octave_shift*12, random.randrange(8, 10)*.1, time)"
   ]
  },
  {
   "cell_type": "markdown",
   "id": "d206688f",
   "metadata": {},
   "source": [
    "### Playing a Common Gusheh"
   ]
  },
  {
   "cell_type": "code",
   "execution_count": 2,
   "id": "5fced05a",
   "metadata": {
    "ExecuteTime": {
     "end_time": "2023-03-05T13:43:31.257120Z",
     "start_time": "2023-03-05T13:43:26.855735Z"
    }
   },
   "outputs": [
    {
     "name": "stdout",
     "output_type": "stream",
     "text": [
      "Using preset Piano Merlin for piano\n"
     ]
    }
   ],
   "source": [
    "s = Session()\n",
    "s.tempo = 100\n",
    "\n",
    "piano = s.new_part(\"piano\")\n",
    "octave = -3\n",
    "\n",
    "piano.play_note(77 + octave*12, 1, .33)\n",
    "piano.play_note(82 + octave*12, 1, .33)\n",
    "piano.play_note(82 + octave*12, 1, .33)\n",
    "\n",
    "piano.play_note(75.5 + octave*12, 1, .33)\n",
    "piano.play_note(82 + octave*12, 1, .33)\n",
    "piano.play_note(82 + octave*12, 1, .33)\n",
    "\n",
    "piano.play_note(74 + octave*12, 1, .33)\n",
    "piano.play_note(82 + octave*12, 1, .33)\n",
    "piano.play_note(82 + octave*12, 1, .33)\n",
    "\n",
    "piano.play_note(72 + octave*12, 1, .33)\n",
    "piano.play_note(82 + octave*12, 1, 1)\n",
    "\n",
    "shur = {\"C\": 72,\n",
    "        \"D\": 74,\n",
    "        \"Ep\": 75.5,\n",
    "        \"F\": 77,\n",
    "        \"G\": 79,\n",
    "        \"Ap\": 80.5,\n",
    "        \"Bb\": 82,\n",
    "        }"
   ]
  },
  {
   "cell_type": "code",
   "execution_count": 26,
   "id": "18a299c8",
   "metadata": {
    "ExecuteTime": {
     "end_time": "2023-03-05T13:16:50.927355Z",
     "start_time": "2023-03-05T13:16:50.922077Z"
    }
   },
   "outputs": [
    {
     "data": {
      "text/plain": [
       "[72, 74, 75.5, 77, 79, 80.5, 82]"
      ]
     },
     "execution_count": 26,
     "metadata": {},
     "output_type": "execute_result"
    }
   ],
   "source": [
    "list(shur.values())"
   ]
  },
  {
   "cell_type": "code",
   "execution_count": 27,
   "id": "86243395",
   "metadata": {
    "ExecuteTime": {
     "end_time": "2023-03-05T13:16:51.302104Z",
     "start_time": "2023-03-05T13:16:51.297147Z"
    }
   },
   "outputs": [],
   "source": [
    "shur = list(shur.values())"
   ]
  },
  {
   "cell_type": "markdown",
   "id": "9ca3e914",
   "metadata": {},
   "source": [
    "#### Add 3 octaves below and above"
   ]
  },
  {
   "cell_type": "code",
   "execution_count": null,
   "id": "14907eb2",
   "metadata": {
    "ExecuteTime": {
     "end_time": "2023-03-05T13:16:51.738581Z",
     "start_time": "2023-03-05T13:16:51.732647Z"
    }
   },
   "outputs": [],
   "source": [
    "shur = [s - 36 for s in shur] + [s - 24 for s in shur] + [s - 12 for s in shur] + shur + [s + 12 for s in shur] + [s + 24 for s in shur]"
   ]
  },
  {
   "cell_type": "code",
   "execution_count": 29,
   "id": "8baa8b15",
   "metadata": {
    "ExecuteTime": {
     "end_time": "2023-03-05T13:16:52.575222Z",
     "start_time": "2023-03-05T13:16:52.569128Z"
    }
   },
   "outputs": [
    {
     "data": {
      "text/plain": [
       "41"
      ]
     },
     "execution_count": 29,
     "metadata": {},
     "output_type": "execute_result"
    }
   ],
   "source": [
    "shur[3]"
   ]
  },
  {
   "cell_type": "code",
   "execution_count": 3,
   "id": "1508f7b3",
   "metadata": {
    "ExecuteTime": {
     "end_time": "2023-03-05T13:43:56.871175Z",
     "start_time": "2023-03-05T13:43:36.215544Z"
    }
   },
   "outputs": [
    {
     "name": "stdout",
     "output_type": "stream",
     "text": [
      "Using preset Timpani Half for timpani\n"
     ]
    },
    {
     "ename": "KeyboardInterrupt",
     "evalue": "",
     "output_type": "error",
     "traceback": [
      "\u001b[0;31m---------------------------------------------------------------------------\u001b[0m",
      "\u001b[0;31mKeyboardInterrupt\u001b[0m                         Traceback (most recent call last)",
      "Input \u001b[0;32mIn [3]\u001b[0m, in \u001b[0;36m<cell line: 20>\u001b[0;34m()\u001b[0m\n\u001b[1;32m     28\u001b[0m piano\u001b[38;5;241m.\u001b[39mplay_note(shur[n\u001b[38;5;241m-\u001b[39m\u001b[38;5;241m1\u001b[39m] \u001b[38;5;241m+\u001b[39m octave\u001b[38;5;241m*\u001b[39m\u001b[38;5;241m12\u001b[39m,  \u001b[38;5;241m1\u001b[39m, \u001b[38;5;241m.33\u001b[39m)\n\u001b[1;32m     29\u001b[0m piano\u001b[38;5;241m.\u001b[39mplay_note(shur[n\u001b[38;5;241m+\u001b[39m\u001b[38;5;241m3\u001b[39m] \u001b[38;5;241m+\u001b[39m octave\u001b[38;5;241m*\u001b[39m\u001b[38;5;241m12\u001b[39m, \u001b[38;5;241m.5\u001b[39m, \u001b[38;5;241m.33\u001b[39m)\n\u001b[0;32m---> 30\u001b[0m \u001b[43mpiano\u001b[49m\u001b[38;5;241;43m.\u001b[39;49m\u001b[43mplay_note\u001b[49m\u001b[43m(\u001b[49m\u001b[43mshur\u001b[49m\u001b[43m[\u001b[49m\u001b[43mn\u001b[49m\u001b[38;5;241;43m+\u001b[39;49m\u001b[38;5;241;43m3\u001b[39;49m\u001b[43m]\u001b[49m\u001b[43m \u001b[49m\u001b[38;5;241;43m+\u001b[39;49m\u001b[43m \u001b[49m\u001b[43moctave\u001b[49m\u001b[38;5;241;43m*\u001b[39;49m\u001b[38;5;241;43m12\u001b[39;49m\u001b[43m,\u001b[49m\u001b[43m \u001b[49m\u001b[38;5;241;43m.5\u001b[39;49m\u001b[43m,\u001b[49m\u001b[43m \u001b[49m\u001b[38;5;241;43m.33\u001b[39;49m\u001b[43m)\u001b[49m\n\u001b[1;32m     32\u001b[0m \u001b[38;5;66;03m# 5 steps\u001b[39;00m\n\u001b[1;32m     33\u001b[0m piano\u001b[38;5;241m.\u001b[39mplay_note(shur[n\u001b[38;5;241m-\u001b[39m\u001b[38;5;241m2\u001b[39m] \u001b[38;5;241m+\u001b[39m octave\u001b[38;5;241m*\u001b[39m\u001b[38;5;241m12\u001b[39m, \u001b[38;5;241m1\u001b[39m, \u001b[38;5;241m.33\u001b[39m)\n",
      "File \u001b[0;32m~/envs/discogs/lib/python3.9/site-packages/scamp/instruments.py:454\u001b[0m, in \u001b[0;36mScampInstrument.play_note\u001b[0;34m(self, pitch, volume, length, properties, blocking, clock, silent, transcribe)\u001b[0m\n\u001b[1;32m    450\u001b[0m \u001b[38;5;28;01melse\u001b[39;00m:\n\u001b[1;32m    451\u001b[0m     \u001b[38;5;66;03m# No adjustments, so no need to separate transcription from playback\u001b[39;00m\n\u001b[1;32m    452\u001b[0m     \u001b[38;5;66;03m# (However, if the clock is fast-forwarding, make it silent)\u001b[39;00m\n\u001b[1;32m    453\u001b[0m     \u001b[38;5;28;01mif\u001b[39;00m blocking:\n\u001b[0;32m--> 454\u001b[0m         \u001b[38;5;28;43mself\u001b[39;49m\u001b[38;5;241;43m.\u001b[39;49m\u001b[43m_do_play_note\u001b[49m\u001b[43m(\u001b[49m\u001b[43mclock\u001b[49m\u001b[43m,\u001b[49m\u001b[43m \u001b[49m\u001b[43mpitch\u001b[49m\u001b[43m,\u001b[49m\u001b[43m \u001b[49m\u001b[43mvolume\u001b[49m\u001b[43m,\u001b[49m\u001b[43m \u001b[49m\u001b[43mlength\u001b[49m\u001b[43m,\u001b[49m\u001b[43m \u001b[49m\u001b[43mproperties\u001b[49m\u001b[43m,\u001b[49m\n\u001b[1;32m    455\u001b[0m \u001b[43m                           \u001b[49m\u001b[43msilent\u001b[49m\u001b[38;5;241;43m=\u001b[39;49m\u001b[43mclock\u001b[49m\u001b[38;5;241;43m.\u001b[39;49m\u001b[43mis_fast_forwarding\u001b[49m\u001b[43m(\u001b[49m\u001b[43m)\u001b[49m\u001b[43m \u001b[49m\u001b[38;5;129;43;01mor\u001b[39;49;00m\u001b[43m \u001b[49m\u001b[43msilent\u001b[49m\u001b[43m,\u001b[49m\u001b[43m \u001b[49m\u001b[43mtranscribe\u001b[49m\u001b[38;5;241;43m=\u001b[39;49m\u001b[43mtranscribe\u001b[49m\u001b[43m)\u001b[49m\n\u001b[1;32m    456\u001b[0m     \u001b[38;5;28;01melse\u001b[39;00m:\n\u001b[1;32m    457\u001b[0m         clock\u001b[38;5;241m.\u001b[39mfork(\u001b[38;5;28mself\u001b[39m\u001b[38;5;241m.\u001b[39m_do_play_note, name\u001b[38;5;241m=\u001b[39m\u001b[38;5;124m\"\u001b[39m\u001b[38;5;124mDO_PLAY_NOTE\u001b[39m\u001b[38;5;124m\"\u001b[39m,\n\u001b[1;32m    458\u001b[0m                    args\u001b[38;5;241m=\u001b[39m(pitch, volume, length, properties),\n\u001b[1;32m    459\u001b[0m                    kwargs\u001b[38;5;241m=\u001b[39m{\u001b[38;5;124m\"\u001b[39m\u001b[38;5;124msilent\u001b[39m\u001b[38;5;124m\"\u001b[39m: clock\u001b[38;5;241m.\u001b[39mis_fast_forwarding() \u001b[38;5;129;01mor\u001b[39;00m silent, \u001b[38;5;124m\"\u001b[39m\u001b[38;5;124mtranscribe\u001b[39m\u001b[38;5;124m\"\u001b[39m: transcribe})\n",
      "File \u001b[0;32m~/envs/discogs/lib/python3.9/site-packages/scamp/instruments.py:556\u001b[0m, in \u001b[0;36mScampInstrument._do_play_note\u001b[0;34m(self, clock, pitch, volume, length, properties, silent, transcribe)\u001b[0m\n\u001b[1;32m    554\u001b[0m             note_handle\u001b[38;5;241m.\u001b[39msplit()\n\u001b[1;32m    555\u001b[0m     \u001b[38;5;28;01melse\u001b[39;00m:\n\u001b[0;32m--> 556\u001b[0m         \u001b[43mclock\u001b[49m\u001b[38;5;241;43m.\u001b[39;49m\u001b[43mwait\u001b[49m\u001b[43m(\u001b[49m\u001b[43mlength\u001b[49m\u001b[43m)\u001b[49m\n\u001b[1;32m    557\u001b[0m     note_handle\u001b[38;5;241m.\u001b[39mend()\n\u001b[1;32m    558\u001b[0m \u001b[38;5;28;01mexcept\u001b[39;00m (ClockKilledError, DeadClockError) \u001b[38;5;28;01mas\u001b[39;00m e:\n",
      "File \u001b[0;32m~/envs/discogs/lib/python3.9/site-packages/clockblocks/clock.py:1110\u001b[0m, in \u001b[0;36mClock.wait\u001b[0;34m(self, dt, units, sub_call)\u001b[0m\n\u001b[1;32m   1106\u001b[0m     \u001b[38;5;28mself\u001b[39m\u001b[38;5;241m.\u001b[39m_handle_next_wakeup_call()\n\u001b[1;32m   1108\u001b[0m \u001b[38;5;66;03m# if we exit the while loop, that means that there is no one in the queue (meaning no children),\u001b[39;00m\n\u001b[1;32m   1109\u001b[0m \u001b[38;5;66;03m# or the first wake up call is scheduled for after this wait is to end. So we can safely wait.\u001b[39;00m\n\u001b[0;32m-> 1110\u001b[0m \u001b[38;5;28;43mself\u001b[39;49m\u001b[38;5;241;43m.\u001b[39;49m\u001b[43m_wait_in_parent\u001b[49m\u001b[43m(\u001b[49m\u001b[38;5;28;43mself\u001b[39;49m\u001b[38;5;241;43m.\u001b[39;49m\u001b[43mtempo_history\u001b[49m\u001b[38;5;241;43m.\u001b[39;49m\u001b[43mget_wait_time\u001b[49m\u001b[43m(\u001b[49m\u001b[43mend_beat\u001b[49m\u001b[43m \u001b[49m\u001b[38;5;241;43m-\u001b[39;49m\u001b[43m \u001b[49m\u001b[38;5;28;43mself\u001b[39;49m\u001b[38;5;241;43m.\u001b[39;49m\u001b[43mbeat\u001b[49m\u001b[43m(\u001b[49m\u001b[43m)\u001b[49m\u001b[43m)\u001b[49m\u001b[43m)\u001b[49m\n\u001b[1;32m   1111\u001b[0m beats_passed \u001b[38;5;241m=\u001b[39m end_beat \u001b[38;5;241m-\u001b[39m \u001b[38;5;28mself\u001b[39m\u001b[38;5;241m.\u001b[39mbeat()\n\u001b[1;32m   1112\u001b[0m woken_early \u001b[38;5;241m=\u001b[39m \u001b[38;5;28;01mFalse\u001b[39;00m\n",
      "File \u001b[0;32m~/envs/discogs/lib/python3.9/site-packages/clockblocks/clock.py:1051\u001b[0m, in \u001b[0;36mClock._wait_in_parent\u001b[0;34m(self, dt)\u001b[0m\n\u001b[1;32m   1049\u001b[0m \u001b[38;5;28mself\u001b[39m\u001b[38;5;241m.\u001b[39m_dormant \u001b[38;5;241m=\u001b[39m \u001b[38;5;28;01mTrue\u001b[39;00m\n\u001b[1;32m   1050\u001b[0m \u001b[38;5;28;01mif\u001b[39;00m dt \u001b[38;5;241m>\u001b[39m \u001b[38;5;241m1e-5\u001b[39m:\n\u001b[0;32m-> 1051\u001b[0m     \u001b[43msleep_precisely_until\u001b[49m\u001b[43m(\u001b[49m\u001b[43mstop_sleeping_time\u001b[49m\u001b[43m,\u001b[49m\u001b[43m \u001b[49m\u001b[38;5;28;43mself\u001b[39;49m\u001b[38;5;241;43m.\u001b[39;49m\u001b[43m_wait_event\u001b[49m\u001b[43m)\u001b[49m\n\u001b[1;32m   1052\u001b[0m \u001b[38;5;28mself\u001b[39m\u001b[38;5;241m.\u001b[39m_dormant \u001b[38;5;241m=\u001b[39m \u001b[38;5;28;01mFalse\u001b[39;00m\n\u001b[1;32m   1053\u001b[0m \u001b[38;5;28;01mif\u001b[39;00m \u001b[38;5;28mself\u001b[39m\u001b[38;5;241m.\u001b[39m_wait_event\u001b[38;5;241m.\u001b[39mis_set():\n",
      "File \u001b[0;32m~/envs/discogs/lib/python3.9/site-packages/clockblocks/utilities.py:47\u001b[0m, in \u001b[0;36msleep_precisely_until\u001b[0;34m(stop_time, interruption_event)\u001b[0m\n\u001b[1;32m     45\u001b[0m \u001b[38;5;28;01melse\u001b[39;00m:\n\u001b[1;32m     46\u001b[0m     \u001b[38;5;28;01mif\u001b[39;00m interruption_event \u001b[38;5;129;01mis\u001b[39;00m \u001b[38;5;129;01mnot\u001b[39;00m \u001b[38;5;28;01mNone\u001b[39;00m:\n\u001b[0;32m---> 47\u001b[0m         \u001b[38;5;28;01mif\u001b[39;00m \u001b[43minterruption_event\u001b[49m\u001b[38;5;241;43m.\u001b[39;49m\u001b[43mwait\u001b[49m\u001b[43m(\u001b[49m\u001b[43mtimeout\u001b[49m\u001b[38;5;241;43m=\u001b[39;49m\u001b[43mtime_remaining\u001b[49m\u001b[43m \u001b[49m\u001b[38;5;241;43m/\u001b[39;49m\u001b[43m \u001b[49m\u001b[38;5;241;43m2\u001b[39;49m\u001b[43m)\u001b[49m:\n\u001b[1;32m     48\u001b[0m             \u001b[38;5;28;01mreturn\u001b[39;00m\n\u001b[1;32m     49\u001b[0m     \u001b[38;5;28;01melse\u001b[39;00m:\n",
      "File \u001b[0;32m/opt/homebrew/Cellar/python@3.9/3.9.16/Frameworks/Python.framework/Versions/3.9/lib/python3.9/threading.py:581\u001b[0m, in \u001b[0;36mEvent.wait\u001b[0;34m(self, timeout)\u001b[0m\n\u001b[1;32m    579\u001b[0m signaled \u001b[38;5;241m=\u001b[39m \u001b[38;5;28mself\u001b[39m\u001b[38;5;241m.\u001b[39m_flag\n\u001b[1;32m    580\u001b[0m \u001b[38;5;28;01mif\u001b[39;00m \u001b[38;5;129;01mnot\u001b[39;00m signaled:\n\u001b[0;32m--> 581\u001b[0m     signaled \u001b[38;5;241m=\u001b[39m \u001b[38;5;28;43mself\u001b[39;49m\u001b[38;5;241;43m.\u001b[39;49m\u001b[43m_cond\u001b[49m\u001b[38;5;241;43m.\u001b[39;49m\u001b[43mwait\u001b[49m\u001b[43m(\u001b[49m\u001b[43mtimeout\u001b[49m\u001b[43m)\u001b[49m\n\u001b[1;32m    582\u001b[0m \u001b[38;5;28;01mreturn\u001b[39;00m signaled\n",
      "File \u001b[0;32m/opt/homebrew/Cellar/python@3.9/3.9.16/Frameworks/Python.framework/Versions/3.9/lib/python3.9/threading.py:316\u001b[0m, in \u001b[0;36mCondition.wait\u001b[0;34m(self, timeout)\u001b[0m\n\u001b[1;32m    314\u001b[0m \u001b[38;5;28;01melse\u001b[39;00m:\n\u001b[1;32m    315\u001b[0m     \u001b[38;5;28;01mif\u001b[39;00m timeout \u001b[38;5;241m>\u001b[39m \u001b[38;5;241m0\u001b[39m:\n\u001b[0;32m--> 316\u001b[0m         gotit \u001b[38;5;241m=\u001b[39m \u001b[43mwaiter\u001b[49m\u001b[38;5;241;43m.\u001b[39;49m\u001b[43macquire\u001b[49m\u001b[43m(\u001b[49m\u001b[38;5;28;43;01mTrue\u001b[39;49;00m\u001b[43m,\u001b[49m\u001b[43m \u001b[49m\u001b[43mtimeout\u001b[49m\u001b[43m)\u001b[49m\n\u001b[1;32m    317\u001b[0m     \u001b[38;5;28;01melse\u001b[39;00m:\n\u001b[1;32m    318\u001b[0m         gotit \u001b[38;5;241m=\u001b[39m waiter\u001b[38;5;241m.\u001b[39macquire(\u001b[38;5;28;01mFalse\u001b[39;00m)\n",
      "\u001b[0;31mKeyboardInterrupt\u001b[0m: "
     ]
    }
   ],
   "source": [
    "s = Session()\n",
    "s.tempo = 100\n",
    "\n",
    "piano = s.new_part(\"timpani\")\n",
    "octave = -2\n",
    "\n",
    "shur = {\"C\": 72,\n",
    "        \"D\": 74,\n",
    "        \"Ep\": 75.5,\n",
    "        \"F\": 77,\n",
    "        \"G\": 79,\n",
    "        \"Ap\": 80.5,\n",
    "        \"Bb\": 82,\n",
    "        }\n",
    "shur = list(shur.values())\n",
    "shur = [s - 36 for s in shur] + [s - 24 for s in shur] + [s - 12 for s in shur] + shur + [s + 12 for s in shur] + [s + 24 for s in shur]\n",
    "\n",
    "n = 20\n",
    "while True:\n",
    "    n = n + random.randint(-1, 1)\n",
    "    for i in range(2):\n",
    "        # 3 steps\n",
    "        piano.play_note(shur[n] + octave*12, 1, .33)\n",
    "        piano.play_note(shur[n+3] + octave*12, .5, .33)\n",
    "        piano.play_note(shur[n+3] + octave*12, .5, .33)\n",
    "\n",
    "        # 4 steps\n",
    "        piano.play_note(shur[n-1] + octave*12,  1, .33)\n",
    "        piano.play_note(shur[n+3] + octave*12, .5, .33)\n",
    "        piano.play_note(shur[n+3] + octave*12, .5, .33)\n",
    "\n",
    "        # 5 steps\n",
    "        piano.play_note(shur[n-2] + octave*12, 1, .33)\n",
    "        piano.play_note(shur[n+3] + octave*12, .5, .33)\n",
    "        piano.play_note(shur[n+3] + octave*12, .5, .33)\n",
    "\n",
    "        # 6 steps\n",
    "        piano.play_note(shur[n-3] + octave*12, 1, .33)\n",
    "        piano.play_note(shur[n+3] + octave*12, 1, .67)"
   ]
  },
  {
   "cell_type": "markdown",
   "id": "09d5e22e",
   "metadata": {},
   "source": [
    "## Next Steps\n",
    "\n",
    "* introduce the different characteristics outlined [here](https://en.wikipedia.org/wiki/Dastg%C4%81h-e_%C5%A0ur) "
   ]
  }
 ],
 "metadata": {
  "kernelspec": {
   "display_name": "discogs",
   "language": "python",
   "name": "discogs"
  },
  "language_info": {
   "codemirror_mode": {
    "name": "ipython",
    "version": 3
   },
   "file_extension": ".py",
   "mimetype": "text/x-python",
   "name": "python",
   "nbconvert_exporter": "python",
   "pygments_lexer": "ipython3",
   "version": "3.9.16"
  }
 },
 "nbformat": 4,
 "nbformat_minor": 5
}
